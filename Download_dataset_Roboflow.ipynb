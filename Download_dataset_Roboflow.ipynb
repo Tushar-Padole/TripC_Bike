{
 "cells": [
  {
   "cell_type": "code",
   "execution_count": 1,
   "id": "d78401bb",
   "metadata": {},
   "outputs": [],
   "source": [
    "from roboflow import Roboflow"
   ]
  },
  {
   "cell_type": "code",
   "execution_count": 5,
   "id": "a0e727c1",
   "metadata": {},
   "outputs": [],
   "source": [
    "rf = Roboflow(api_key=\"ygsntb2Bwh2yaBlIsM64\")"
   ]
  },
  {
   "cell_type": "code",
   "execution_count": null,
   "id": "4ba5ea70",
   "metadata": {},
   "outputs": [
    {
     "name": "stdout",
     "output_type": "stream",
     "text": [
      "loading Roboflow workspace...\n",
      "loading Roboflow project...\n",
      "Project Name: Triple riding | Project ID: triple-riding-bltnf-oje2m\n"
     ]
    }
   ],
   "source": [
    "# List all  Projects from workspace\n",
    "\n",
    "# Access a workspace by name\n",
    "workspace = rf.workspace(\"tripc-b8ikg\")\n",
    "projects = workspace.projects()\n",
    "#print(projects)\n",
    "\n",
    "# List all projects in this workspace\n",
    "for project_id in projects:\n",
    "    pid = project_id.split(\"/\")[1]\n",
    "    project = workspace.project(pid)\n",
    "    print(f\"Project Name: {project.name} | Project ID: {pid}\")"
   ]
  },
  {
   "cell_type": "code",
   "execution_count": 20,
   "id": "884fa132",
   "metadata": {},
   "outputs": [
    {
     "name": "stdout",
     "output_type": "stream",
     "text": [
      "loading Roboflow workspace...\n",
      "loading Roboflow project...\n"
     ]
    }
   ],
   "source": [
    "project = rf.workspace(\"tripc-b8ikg\").project(\"triple-riding-bltnf-oje2m\")"
   ]
  },
  {
   "cell_type": "code",
   "execution_count": 22,
   "id": "39f52d07",
   "metadata": {},
   "outputs": [
    {
     "name": "stdout",
     "output_type": "stream",
     "text": [
      "Exporting format yolov12 in progress : 85.0%\n",
      "Version export complete for yolov12 format\n"
     ]
    },
    {
     "name": "stderr",
     "output_type": "stream",
     "text": [
      "Downloading Dataset Version Zip in Triple-riding-2 to yolov12:: 100%|██████████| 37335/37335 [00:06<00:00, 6074.77it/s] "
     ]
    },
    {
     "name": "stdout",
     "output_type": "stream",
     "text": [
      "\n"
     ]
    },
    {
     "name": "stderr",
     "output_type": "stream",
     "text": [
      "\n",
      "Extracting Dataset Version Zip to Triple-riding-2 in yolov12:: 100%|██████████| 1128/1128 [00:00<00:00, 1458.65it/s]\n"
     ]
    }
   ],
   "source": [
    "dataset = project.version(\"2\").download(\"yolov12\")"
   ]
  },
  {
   "cell_type": "code",
   "execution_count": null,
   "id": "d0b60f10",
   "metadata": {},
   "outputs": [],
   "source": []
  }
 ],
 "metadata": {
  "kernelspec": {
   "display_name": "yolo-env1",
   "language": "python",
   "name": "python3"
  },
  "language_info": {
   "codemirror_mode": {
    "name": "ipython",
    "version": 3
   },
   "file_extension": ".py",
   "mimetype": "text/x-python",
   "name": "python",
   "nbconvert_exporter": "python",
   "pygments_lexer": "ipython3",
   "version": "3.12.9"
  }
 },
 "nbformat": 4,
 "nbformat_minor": 5
}
